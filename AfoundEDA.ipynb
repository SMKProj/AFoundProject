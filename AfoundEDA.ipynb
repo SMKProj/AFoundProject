{
 "cells": [
  {
   "cell_type": "code",
   "execution_count": 1,
   "metadata": {},
   "outputs": [],
   "source": [
    "from selenium import webdriver\n",
    "from selenium.webdriver.chrome.service import Service as ChromeService\n",
    "from webdriver_manager.chrome import ChromeDriverManager\n",
    "import time\n",
    "import pandas as pd\n",
    "from selenium.webdriver.support.wait import WebDriverWait\n",
    "from selenium.webdriver.common.by import By\n",
    "import googletrans\n",
    "from googletrans import Translator\n",
    "import numpy as np\n",
    "import matplotlib.pyplot as plt"
   ]
  },
  {
   "cell_type": "code",
   "execution_count": 94,
   "metadata": {},
   "outputs": [],
   "source": [
    "driver = webdriver.Chrome(service=ChromeService(ChromeDriverManager().install()))\n",
    "options = webdriver.ChromeOptions()\n",
    "driver = webdriver.Chrome()"
   ]
  },
  {
   "cell_type": "code",
   "execution_count": 3,
   "metadata": {},
   "outputs": [],
   "source": [
    "\n",
    "translator = Translator()"
   ]
  },
  {
   "cell_type": "code",
   "execution_count": 95,
   "metadata": {},
   "outputs": [],
   "source": [
    "data = []\n",
    "def getData():\n",
    "  driver.implicitly_wait(20)\n",
    "  url = 'https://www.afound.com/sv-se/dam/klader/klanningar/vardagsklanningar'\n",
    "  driver.get(url)\n",
    "  \n",
    "  while True:\n",
    "    url = driver.current_url\n",
    "    print('updated : ',url)\n",
    "    driver.get(url)\n",
    "\n",
    "    try:\n",
    "      for element in driver.find_elements(By.XPATH, \"//div[@class='afpl-products afpl-products--fourgrid space-below--huge']//div[@class='flex-row']//div[@class='afpl-product ref-product-card-click']\"):\n",
    "        myString = element.get_attribute('textContent')\n",
    "        sample = myString.strip()\n",
    "        sample = [l for l in sample.split('\\n') if l.strip()]\n",
    "        index = 0\n",
    "        if sample[index].endswith('%'):\n",
    "          salePercent = sample[index].strip()\n",
    "        else:\n",
    "          salePercent = sample[index+1].strip()\n",
    "          index+=1\n",
    "\n",
    "        sizeTranslation = translator.translate(sample[index+1].strip())\n",
    "        sizes = sizeTranslation.text\n",
    "        brand = sample[index+2].strip()\n",
    "        translation = translator.translate(sample[index+3].strip())\n",
    "        item = translation.text\n",
    "        dTrans = translator.translate(sample[index+4].strip())\n",
    "        details = dTrans.text\n",
    "        \"\"\"if sample[-3].endswith('SEK'):\n",
    "          prisOld = sample[-3].strip()\n",
    "        else:\n",
    "          #prisOld = np.nan\n",
    "          prisOld = sample[-2].strip()\n",
    "        \n",
    "        if sample[-2].endswith('SEK'):\n",
    "          newprice = sample[-2].strip()\n",
    "        else:\n",
    "          #newprice = np.nan\n",
    "          newprice = sample[-1].strip()\"\"\"\n",
    "        \n",
    "        if sample[-1].endswith('Prisgaranti'):\n",
    "          prisOld = sample[-3].strip()\n",
    "          newprice = sample[-2].strip()\n",
    "        else:\n",
    "          prisOld = sample[-2].strip()\n",
    "          newprice = sample[-1].strip()\n",
    "          \n",
    "        data.append([salePercent,sizes,brand,item,details,prisOld,newprice])\n",
    "      \n",
    "      print(len(data))\n",
    "      button = driver.find_element(By.XPATH,\"//div[@class='afpl-products afpl-products--fourgrid space-below--huge']//div[@class='afpl-products__nav']//button\")\n",
    "      driver.execute_script(\"arguments[0].click();\", button)\n",
    "      print('Loading more data')\n",
    "      time.sleep(30)\n",
    "    except:\n",
    "      print('Found no more data to load')\n",
    "      break\n",
    "  return data\n"
   ]
  },
  {
   "cell_type": "code",
   "execution_count": 96,
   "metadata": {},
   "outputs": [
    {
     "name": "stdout",
     "output_type": "stream",
     "text": [
      "updated :  https://www.afound.com/sv-se/dam/klader/klanningar/vardagsklanningar\n",
      "44\n",
      "Loading more data\n",
      "updated :  https://www.afound.com/sv-se/dam/klader/klanningar/vardagsklanningar?page=2\n",
      "88\n",
      "Loading more data\n",
      "updated :  https://www.afound.com/sv-se/dam/klader/klanningar/vardagsklanningar?page=3\n",
      "132\n",
      "Loading more data\n",
      "updated :  https://www.afound.com/sv-se/dam/klader/klanningar/vardagsklanningar?page=4\n",
      "176\n",
      "Loading more data\n",
      "updated :  https://www.afound.com/sv-se/dam/klader/klanningar/vardagsklanningar?page=5\n",
      "220\n",
      "Loading more data\n",
      "updated :  https://www.afound.com/sv-se/dam/klader/klanningar/vardagsklanningar?page=6\n",
      "264\n",
      "Loading more data\n",
      "updated :  https://www.afound.com/sv-se/dam/klader/klanningar/vardagsklanningar?page=7\n",
      "308\n",
      "Loading more data\n",
      "updated :  https://www.afound.com/sv-se/dam/klader/klanningar/vardagsklanningar?page=8\n",
      "352\n",
      "Loading more data\n",
      "updated :  https://www.afound.com/sv-se/dam/klader/klanningar/vardagsklanningar?page=9\n",
      "396\n",
      "Loading more data\n",
      "updated :  https://www.afound.com/sv-se/dam/klader/klanningar/vardagsklanningar?page=10\n",
      "440\n",
      "Loading more data\n",
      "updated :  https://www.afound.com/sv-se/dam/klader/klanningar/vardagsklanningar?page=11\n",
      "484\n",
      "Loading more data\n",
      "updated :  https://www.afound.com/sv-se/dam/klader/klanningar/vardagsklanningar?page=12\n",
      "528\n",
      "Loading more data\n",
      "updated :  https://www.afound.com/sv-se/dam/klader/klanningar/vardagsklanningar?page=13\n",
      "572\n",
      "Loading more data\n",
      "updated :  https://www.afound.com/sv-se/dam/klader/klanningar/vardagsklanningar?page=14\n",
      "616\n",
      "Loading more data\n",
      "updated :  https://www.afound.com/sv-se/dam/klader/klanningar/vardagsklanningar?page=15\n",
      "660\n",
      "Loading more data\n",
      "updated :  https://www.afound.com/sv-se/dam/klader/klanningar/vardagsklanningar?page=16\n",
      "704\n",
      "Loading more data\n",
      "updated :  https://www.afound.com/sv-se/dam/klader/klanningar/vardagsklanningar?page=17\n",
      "748\n",
      "Loading more data\n",
      "updated :  https://www.afound.com/sv-se/dam/klader/klanningar/vardagsklanningar?page=18\n",
      "792\n",
      "Loading more data\n",
      "updated :  https://www.afound.com/sv-se/dam/klader/klanningar/vardagsklanningar?page=19\n",
      "836\n",
      "Loading more data\n",
      "updated :  https://www.afound.com/sv-se/dam/klader/klanningar/vardagsklanningar?page=20\n",
      "880\n",
      "Loading more data\n",
      "updated :  https://www.afound.com/sv-se/dam/klader/klanningar/vardagsklanningar?page=21\n",
      "924\n",
      "Loading more data\n",
      "updated :  https://www.afound.com/sv-se/dam/klader/klanningar/vardagsklanningar?page=22\n",
      "968\n",
      "Loading more data\n",
      "updated :  https://www.afound.com/sv-se/dam/klader/klanningar/vardagsklanningar?page=23\n",
      "1012\n",
      "Loading more data\n",
      "updated :  https://www.afound.com/sv-se/dam/klader/klanningar/vardagsklanningar?page=24\n",
      "1056\n",
      "Loading more data\n",
      "updated :  https://www.afound.com/sv-se/dam/klader/klanningar/vardagsklanningar?page=25\n",
      "1100\n",
      "Loading more data\n",
      "updated :  https://www.afound.com/sv-se/dam/klader/klanningar/vardagsklanningar?page=26\n",
      "1144\n",
      "Loading more data\n",
      "updated :  https://www.afound.com/sv-se/dam/klader/klanningar/vardagsklanningar?page=27\n",
      "1188\n",
      "Loading more data\n",
      "updated :  https://www.afound.com/sv-se/dam/klader/klanningar/vardagsklanningar?page=28\n",
      "1232\n",
      "Loading more data\n",
      "updated :  https://www.afound.com/sv-se/dam/klader/klanningar/vardagsklanningar?page=29\n",
      "1276\n",
      "Loading more data\n",
      "updated :  https://www.afound.com/sv-se/dam/klader/klanningar/vardagsklanningar?page=30\n",
      "1320\n",
      "Loading more data\n",
      "updated :  https://www.afound.com/sv-se/dam/klader/klanningar/vardagsklanningar?page=31\n",
      "1364\n",
      "Loading more data\n",
      "updated :  https://www.afound.com/sv-se/dam/klader/klanningar/vardagsklanningar?page=32\n",
      "1408\n",
      "Loading more data\n",
      "updated :  https://www.afound.com/sv-se/dam/klader/klanningar/vardagsklanningar?page=33\n",
      "1452\n",
      "Loading more data\n",
      "updated :  https://www.afound.com/sv-se/dam/klader/klanningar/vardagsklanningar?page=34\n",
      "1496\n",
      "Loading more data\n",
      "updated :  https://www.afound.com/sv-se/dam/klader/klanningar/vardagsklanningar?page=35\n",
      "1540\n",
      "Loading more data\n",
      "updated :  https://www.afound.com/sv-se/dam/klader/klanningar/vardagsklanningar?page=36\n",
      "1584\n",
      "Loading more data\n",
      "updated :  https://www.afound.com/sv-se/dam/klader/klanningar/vardagsklanningar?page=37\n",
      "1628\n",
      "Loading more data\n",
      "updated :  https://www.afound.com/sv-se/dam/klader/klanningar/vardagsklanningar?page=38\n",
      "1672\n",
      "Loading more data\n",
      "updated :  https://www.afound.com/sv-se/dam/klader/klanningar/vardagsklanningar?page=39\n",
      "1716\n",
      "Loading more data\n",
      "updated :  https://www.afound.com/sv-se/dam/klader/klanningar/vardagsklanningar?page=40\n",
      "1760\n",
      "Loading more data\n",
      "updated :  https://www.afound.com/sv-se/dam/klader/klanningar/vardagsklanningar?page=41\n",
      "1804\n",
      "Loading more data\n",
      "updated :  https://www.afound.com/sv-se/dam/klader/klanningar/vardagsklanningar?page=42\n",
      "1848\n",
      "Loading more data\n",
      "updated :  https://www.afound.com/sv-se/dam/klader/klanningar/vardagsklanningar?page=43\n",
      "1871\n",
      "Found no more data to load\n"
     ]
    }
   ],
   "source": [
    "extractedData = getData()"
   ]
  },
  {
   "cell_type": "code",
   "execution_count": 98,
   "metadata": {},
   "outputs": [
    {
     "data": {
      "text/html": [
       "<div>\n",
       "<style scoped>\n",
       "    .dataframe tbody tr th:only-of-type {\n",
       "        vertical-align: middle;\n",
       "    }\n",
       "\n",
       "    .dataframe tbody tr th {\n",
       "        vertical-align: top;\n",
       "    }\n",
       "\n",
       "    .dataframe thead th {\n",
       "        text-align: right;\n",
       "    }\n",
       "</style>\n",
       "<table border=\"1\" class=\"dataframe\">\n",
       "  <thead>\n",
       "    <tr style=\"text-align: right;\">\n",
       "      <th></th>\n",
       "      <th>SalePercent</th>\n",
       "      <th>Sizes</th>\n",
       "      <th>Brand</th>\n",
       "      <th>Title</th>\n",
       "      <th>Details</th>\n",
       "      <th>OldPrice</th>\n",
       "      <th>NewPrice</th>\n",
       "    </tr>\n",
       "  </thead>\n",
       "  <tbody>\n",
       "    <tr>\n",
       "      <th>1861</th>\n",
       "      <td>53%</td>\n",
       "      <td>XL</td>\n",
       "      <td>Le Jardin du Lin</td>\n",
       "      <td>Short-sleeved Pleated Front Dress</td>\n",
       "      <td>The strikethrough price at the top shows the s...</td>\n",
       "      <td>890 SEK</td>\n",
       "      <td>419 SEK</td>\n",
       "    </tr>\n",
       "    <tr>\n",
       "      <th>1862</th>\n",
       "      <td>61%</td>\n",
       "      <td>S XL</td>\n",
       "      <td>Le Jardin du Lin</td>\n",
       "      <td>Short Stripped Dress With Boat Collar And Knot...</td>\n",
       "      <td>The strikethrough price at the top shows the s...</td>\n",
       "      <td>1 190 SEK</td>\n",
       "      <td>469 SEK</td>\n",
       "    </tr>\n",
       "    <tr>\n",
       "      <th>1863</th>\n",
       "      <td>61%</td>\n",
       "      <td>L</td>\n",
       "      <td>Le Jardin du Lin</td>\n",
       "      <td>Mid-length Round Collar Dress With Pockets And...</td>\n",
       "      <td>The strikethrough price at the top shows the s...</td>\n",
       "      <td>1 190 SEK</td>\n",
       "      <td>469 SEK</td>\n",
       "    </tr>\n",
       "    <tr>\n",
       "      <th>1864</th>\n",
       "      <td>58%</td>\n",
       "      <td>S</td>\n",
       "      <td>Le Jardin du Lin</td>\n",
       "      <td>Mid-length V-neck Dress With Polka Dots Prints...</td>\n",
       "      <td>The strikethrough price at the top shows the s...</td>\n",
       "      <td>990 SEK</td>\n",
       "      <td>419 SEK</td>\n",
       "    </tr>\n",
       "    <tr>\n",
       "      <th>1865</th>\n",
       "      <td>63%</td>\n",
       "      <td>S</td>\n",
       "      <td>Le Jardin du Lin</td>\n",
       "      <td>Long Dress With V-neck And  Floral Prints</td>\n",
       "      <td>The strikethrough price at the top shows the s...</td>\n",
       "      <td>1 390 SEK</td>\n",
       "      <td>519 SEK</td>\n",
       "    </tr>\n",
       "    <tr>\n",
       "      <th>1866</th>\n",
       "      <td>63%</td>\n",
       "      <td>XL</td>\n",
       "      <td>Le Jardin du Lin</td>\n",
       "      <td>Pure Linen Striped Shirt Dress</td>\n",
       "      <td>The strikethrough price at the top shows the s...</td>\n",
       "      <td>1 390 SEK</td>\n",
       "      <td>519 SEK</td>\n",
       "    </tr>\n",
       "    <tr>\n",
       "      <th>1867</th>\n",
       "      <td>61%</td>\n",
       "      <td>S XL</td>\n",
       "      <td>Le Jardin du Lin</td>\n",
       "      <td>Short Stripped Dress With Boat Collar And Knot...</td>\n",
       "      <td>The strikethrough price at the top shows the s...</td>\n",
       "      <td>1 190 SEK</td>\n",
       "      <td>469 SEK</td>\n",
       "    </tr>\n",
       "    <tr>\n",
       "      <th>1868</th>\n",
       "      <td>38%</td>\n",
       "      <td>L</td>\n",
       "      <td>COS</td>\n",
       "      <td>Dress With Drawcord Waist Light Turquoise</td>\n",
       "      <td>The strikethrough price at the top shows the s...</td>\n",
       "      <td>790 SEK</td>\n",
       "      <td>490 SEK</td>\n",
       "    </tr>\n",
       "    <tr>\n",
       "      <th>1869</th>\n",
       "      <td>64%</td>\n",
       "      <td>EU 44</td>\n",
       "      <td>&amp; Other Stories</td>\n",
       "      <td>Striped Puff Sleeve Midi Dress Stripe</td>\n",
       "      <td>The strikethrough price at the top shows the s...</td>\n",
       "      <td>1 300 SEK</td>\n",
       "      <td>474 SEK</td>\n",
       "    </tr>\n",
       "    <tr>\n",
       "      <th>1870</th>\n",
       "      <td>23%</td>\n",
       "      <td>XXS</td>\n",
       "      <td>H&amp;M</td>\n",
       "      <td>Shirt Dress In Lyocell Dark Denim Blue</td>\n",
       "      <td>The strikethrough price at the top shows the s...</td>\n",
       "      <td>299 SEK</td>\n",
       "      <td>229 SEK</td>\n",
       "    </tr>\n",
       "  </tbody>\n",
       "</table>\n",
       "</div>"
      ],
      "text/plain": [
       "     SalePercent  Sizes             Brand  \\\n",
       "1861         53%     XL  Le Jardin du Lin   \n",
       "1862         61%   S XL  Le Jardin du Lin   \n",
       "1863         61%      L  Le Jardin du Lin   \n",
       "1864         58%      S  Le Jardin du Lin   \n",
       "1865         63%      S  Le Jardin du Lin   \n",
       "1866         63%     XL  Le Jardin du Lin   \n",
       "1867         61%   S XL  Le Jardin du Lin   \n",
       "1868         38%      L               COS   \n",
       "1869         64%  EU 44   & Other Stories   \n",
       "1870         23%    XXS               H&M   \n",
       "\n",
       "                                                  Title  \\\n",
       "1861                  Short-sleeved Pleated Front Dress   \n",
       "1862  Short Stripped Dress With Boat Collar And Knot...   \n",
       "1863  Mid-length Round Collar Dress With Pockets And...   \n",
       "1864  Mid-length V-neck Dress With Polka Dots Prints...   \n",
       "1865          Long Dress With V-neck And  Floral Prints   \n",
       "1866                     Pure Linen Striped Shirt Dress   \n",
       "1867  Short Stripped Dress With Boat Collar And Knot...   \n",
       "1868          Dress With Drawcord Waist Light Turquoise   \n",
       "1869              Striped Puff Sleeve Midi Dress Stripe   \n",
       "1870             Shirt Dress In Lyocell Dark Denim Blue   \n",
       "\n",
       "                                                Details   OldPrice NewPrice  \n",
       "1861  The strikethrough price at the top shows the s...    890 SEK  419 SEK  \n",
       "1862  The strikethrough price at the top shows the s...  1 190 SEK  469 SEK  \n",
       "1863  The strikethrough price at the top shows the s...  1 190 SEK  469 SEK  \n",
       "1864  The strikethrough price at the top shows the s...    990 SEK  419 SEK  \n",
       "1865  The strikethrough price at the top shows the s...  1 390 SEK  519 SEK  \n",
       "1866  The strikethrough price at the top shows the s...  1 390 SEK  519 SEK  \n",
       "1867  The strikethrough price at the top shows the s...  1 190 SEK  469 SEK  \n",
       "1868  The strikethrough price at the top shows the s...    790 SEK  490 SEK  \n",
       "1869  The strikethrough price at the top shows the s...  1 300 SEK  474 SEK  \n",
       "1870  The strikethrough price at the top shows the s...    299 SEK  229 SEK  "
      ]
     },
     "execution_count": 98,
     "metadata": {},
     "output_type": "execute_result"
    }
   ],
   "source": [
    "originalData = pd.DataFrame(extractedData, columns=['SalePercent', 'Sizes', 'Brand','Title','Details','OldPrice','NewPrice'])\n",
    "originalData.tail(10)"
   ]
  },
  {
   "cell_type": "code",
   "execution_count": 147,
   "metadata": {},
   "outputs": [],
   "source": [
    "df = originalData.drop(['Details'],axis=1)"
   ]
  },
  {
   "cell_type": "code",
   "execution_count": 148,
   "metadata": {},
   "outputs": [
    {
     "name": "stdout",
     "output_type": "stream",
     "text": [
      "SalePercent    0\n",
      "Sizes          0\n",
      "Brand          0\n",
      "Title          0\n",
      "OldPrice       0\n",
      "NewPrice       0\n",
      "dtype: int64\n"
     ]
    }
   ],
   "source": [
    "#df = pd.DataFrame(extractedData, columns=['SalePercent', 'Sizes', 'Brand', 'Title', 'OldPrice','NewPrice'])\n",
    "print(df.isna().sum())"
   ]
  },
  {
   "cell_type": "code",
   "execution_count": 149,
   "metadata": {},
   "outputs": [
    {
     "data": {
      "text/plain": [
       "Brand\n",
       "& Other Stories      147\n",
       "A PART OF THE ART      5\n",
       "Arket                185\n",
       "C&Jo                   2\n",
       "COS                  273\n",
       "Cras                   5\n",
       "Damson Madder          5\n",
       "Fila                   3\n",
       "H&M                  797\n",
       "Le Jardin du Lin      93\n",
       "Mads Nørgaard          1\n",
       "Minga London           1\n",
       "Monki                213\n",
       "Newhouse              15\n",
       "Regatta               24\n",
       "Roxy                   2\n",
       "Seidensticker         33\n",
       "Soft Rebels           30\n",
       "Superdry               1\n",
       "The Ragged Priest      1\n",
       "Trespass               4\n",
       "Weekday               31\n",
       "dtype: int64"
      ]
     },
     "execution_count": 149,
     "metadata": {},
     "output_type": "execute_result"
    }
   ],
   "source": [
    "brandsCount = pd.crosstab(df['Brand'],df.index).sum(axis=1)\n",
    "brandsCount"
   ]
  },
  {
   "cell_type": "code",
   "execution_count": 150,
   "metadata": {},
   "outputs": [],
   "source": [
    "clothesDic = { \"Dress\" : \"Dress\",\n",
    "              \"Shirt\" : \"Shirt\",\n",
    "              \"T-shirt\" : \"T-shirt\",\n",
    "              \"Tunic\" : \"Tunic\",\n",
    "              \"Crèmevit\" : \"Crèmevit\",\n",
    "              \"Wool T-shirt\" : \"Wool T-shirt\"}"
   ]
  },
  {
   "cell_type": "code",
   "execution_count": 151,
   "metadata": {},
   "outputs": [],
   "source": [
    "df['Category'] = \"Unidentified\"\n",
    "\n",
    "# Iterate through each title\n",
    "for i, title in enumerate(df['Title']):\n",
    "    words = title.split(' ')\n",
    "    \n",
    "    # Iterate through each word\n",
    "    for word in words:\n",
    "        if word in clothesDic:\n",
    "            # Assign the category to the corresponding row\n",
    "            df.at[i, 'Category'] = clothesDic[word]"
   ]
  },
  {
   "cell_type": "code",
   "execution_count": 129,
   "metadata": {},
   "outputs": [
    {
     "data": {
      "text/plain": [
       "array(['Dress', None, 'Tunic', 'T-shirt', 'Shirt', 'Crèmevit'],\n",
       "      dtype=object)"
      ]
     },
     "execution_count": 129,
     "metadata": {},
     "output_type": "execute_result"
    }
   ],
   "source": [
    "df['Category'].unique()"
   ]
  },
  {
   "cell_type": "code",
   "execution_count": 130,
   "metadata": {},
   "outputs": [
    {
     "data": {
      "text/html": [
       "<div>\n",
       "<style scoped>\n",
       "    .dataframe tbody tr th:only-of-type {\n",
       "        vertical-align: middle;\n",
       "    }\n",
       "\n",
       "    .dataframe tbody tr th {\n",
       "        vertical-align: top;\n",
       "    }\n",
       "\n",
       "    .dataframe thead th {\n",
       "        text-align: right;\n",
       "    }\n",
       "</style>\n",
       "<table border=\"1\" class=\"dataframe\">\n",
       "  <thead>\n",
       "    <tr style=\"text-align: right;\">\n",
       "      <th></th>\n",
       "      <th>SalePercent</th>\n",
       "      <th>Sizes</th>\n",
       "      <th>Brand</th>\n",
       "      <th>Title</th>\n",
       "      <th>OldPrice</th>\n",
       "      <th>NewPrice</th>\n",
       "      <th>Category</th>\n",
       "    </tr>\n",
       "  </thead>\n",
       "  <tbody>\n",
       "    <tr>\n",
       "      <th>1868</th>\n",
       "      <td>38%</td>\n",
       "      <td>L</td>\n",
       "      <td>COS</td>\n",
       "      <td>Dress With Drawcord Waist Light Turquoise</td>\n",
       "      <td>790 SEK</td>\n",
       "      <td>490 SEK</td>\n",
       "      <td>Dress</td>\n",
       "    </tr>\n",
       "    <tr>\n",
       "      <th>1869</th>\n",
       "      <td>64%</td>\n",
       "      <td>EU 44</td>\n",
       "      <td>&amp; Other Stories</td>\n",
       "      <td>Striped Puff Sleeve Midi Dress Stripe</td>\n",
       "      <td>1 300 SEK</td>\n",
       "      <td>474 SEK</td>\n",
       "      <td>Dress</td>\n",
       "    </tr>\n",
       "    <tr>\n",
       "      <th>1870</th>\n",
       "      <td>23%</td>\n",
       "      <td>XXS</td>\n",
       "      <td>H&amp;M</td>\n",
       "      <td>Shirt Dress In Lyocell Dark Denim Blue</td>\n",
       "      <td>299 SEK</td>\n",
       "      <td>229 SEK</td>\n",
       "      <td>Dress</td>\n",
       "    </tr>\n",
       "  </tbody>\n",
       "</table>\n",
       "</div>"
      ],
      "text/plain": [
       "     SalePercent  Sizes            Brand  \\\n",
       "1868         38%      L              COS   \n",
       "1869         64%  EU 44  & Other Stories   \n",
       "1870         23%    XXS              H&M   \n",
       "\n",
       "                                          Title   OldPrice NewPrice Category  \n",
       "1868  Dress With Drawcord Waist Light Turquoise    790 SEK  490 SEK    Dress  \n",
       "1869      Striped Puff Sleeve Midi Dress Stripe  1 300 SEK  474 SEK    Dress  \n",
       "1870     Shirt Dress In Lyocell Dark Denim Blue    299 SEK  229 SEK    Dress  "
      ]
     },
     "execution_count": 130,
     "metadata": {},
     "output_type": "execute_result"
    }
   ],
   "source": [
    "df.tail(3)"
   ]
  },
  {
   "cell_type": "code",
   "execution_count": 152,
   "metadata": {},
   "outputs": [
    {
     "data": {
      "text/plain": [
       "Category\n",
       "Crèmevit           2\n",
       "Dress           1546\n",
       "Shirt             20\n",
       "T-shirt           19\n",
       "Tunic             12\n",
       "Unidentified     272\n",
       "dtype: int64"
      ]
     },
     "execution_count": 152,
     "metadata": {},
     "output_type": "execute_result"
    }
   ],
   "source": [
    "typeCount = pd.crosstab(df['Category'],df.index).sum(axis=1)\n",
    "typeCount"
   ]
  },
  {
   "cell_type": "code",
   "execution_count": 133,
   "metadata": {},
   "outputs": [
    {
     "name": "stdout",
     "output_type": "stream",
     "text": [
      "Shirt:  131\n",
      "Coat:  0\n",
      "Dress:  1549\n",
      "T-Shirt:  38\n",
      "Wool T-Shirt:  3\n",
      "Dress:  1549\n"
     ]
    }
   ],
   "source": [
    "print('Shirt: ',df['Title'].str.contains('Shirt').sum())\n",
    "print('Coat: ',df['Title'].str.contains('Coat').sum())\n",
    "print('Dress: ',df['Title'].str.contains('Dress').sum())\n",
    "print('T-Shirt: ',df['Title'].str.contains('T-shirt').sum())\n",
    "print('Wool T-Shirt: ',df['Title'].str.contains('Wool T-shirt').sum())\n",
    "print('Dress: ',df['Title'].str.contains('Dress').sum())"
   ]
  },
  {
   "cell_type": "code",
   "execution_count": 153,
   "metadata": {},
   "outputs": [
    {
     "data": {
      "text/plain": [
       "(1871, 7)"
      ]
     },
     "execution_count": 153,
     "metadata": {},
     "output_type": "execute_result"
    }
   ],
   "source": [
    "df.shape"
   ]
  },
  {
   "cell_type": "code",
   "execution_count": 154,
   "metadata": {},
   "outputs": [
    {
     "name": "stdout",
     "output_type": "stream",
     "text": [
      "<class 'pandas.core.frame.DataFrame'>\n",
      "RangeIndex: 1871 entries, 0 to 1870\n",
      "Data columns (total 7 columns):\n",
      " #   Column       Non-Null Count  Dtype \n",
      "---  ------       --------------  ----- \n",
      " 0   SalePercent  1871 non-null   object\n",
      " 1   Sizes        1871 non-null   object\n",
      " 2   Brand        1871 non-null   object\n",
      " 3   Title        1871 non-null   object\n",
      " 4   OldPrice     1871 non-null   object\n",
      " 5   NewPrice     1871 non-null   object\n",
      " 6   Category     1871 non-null   object\n",
      "dtypes: object(7)\n",
      "memory usage: 102.4+ KB\n"
     ]
    }
   ],
   "source": [
    "df.info()"
   ]
  },
  {
   "cell_type": "code",
   "execution_count": 155,
   "metadata": {},
   "outputs": [],
   "source": [
    "df.loc[:,'SalePercent'] = df['SalePercent'].str.strip('%').astype(int)\n",
    "df.loc[:,'SalePercent'] = (df['SalePercent'] / 100)"
   ]
  },
  {
   "cell_type": "code",
   "execution_count": 156,
   "metadata": {},
   "outputs": [],
   "source": [
    "df.loc[:,'OldPrice'] = df['OldPrice'].str.strip('SEK').str.replace('\\xa0', '')\n",
    "df.loc[:,'NewPrice'] = df['NewPrice'].str.strip('SEK').str.replace('\\xa0', '')"
   ]
  },
  {
   "cell_type": "code",
   "execution_count": 157,
   "metadata": {},
   "outputs": [
    {
     "data": {
      "text/html": [
       "<div>\n",
       "<style scoped>\n",
       "    .dataframe tbody tr th:only-of-type {\n",
       "        vertical-align: middle;\n",
       "    }\n",
       "\n",
       "    .dataframe tbody tr th {\n",
       "        vertical-align: top;\n",
       "    }\n",
       "\n",
       "    .dataframe thead th {\n",
       "        text-align: right;\n",
       "    }\n",
       "</style>\n",
       "<table border=\"1\" class=\"dataframe\">\n",
       "  <thead>\n",
       "    <tr style=\"text-align: right;\">\n",
       "      <th></th>\n",
       "      <th>SalePercent</th>\n",
       "      <th>Sizes</th>\n",
       "      <th>Brand</th>\n",
       "      <th>Title</th>\n",
       "      <th>OldPrice</th>\n",
       "      <th>NewPrice</th>\n",
       "      <th>Category</th>\n",
       "    </tr>\n",
       "  </thead>\n",
       "  <tbody>\n",
       "    <tr>\n",
       "      <th>0</th>\n",
       "      <td>0.65</td>\n",
       "      <td>XS S M L</td>\n",
       "      <td>COS</td>\n",
       "      <td>Oversized-fit Wool T-shirt Dress Black</td>\n",
       "      <td>1100</td>\n",
       "      <td>386</td>\n",
       "      <td>Dress</td>\n",
       "    </tr>\n",
       "    <tr>\n",
       "      <th>1</th>\n",
       "      <td>0.59</td>\n",
       "      <td>XS S</td>\n",
       "      <td>Arket</td>\n",
       "      <td>Short Sleeve Sweatshirt Dress Black</td>\n",
       "      <td>295</td>\n",
       "      <td>240</td>\n",
       "      <td>Dress</td>\n",
       "    </tr>\n",
       "    <tr>\n",
       "      <th>2</th>\n",
       "      <td>0.6</td>\n",
       "      <td>XXS XS S</td>\n",
       "      <td>H&amp;M</td>\n",
       "      <td>Ribbed Bodycon Dress Black</td>\n",
       "      <td>149</td>\n",
       "      <td>60</td>\n",
       "      <td>Dress</td>\n",
       "    </tr>\n",
       "    <tr>\n",
       "      <th>3</th>\n",
       "      <td>0.5</td>\n",
       "      <td>Available in several sizes</td>\n",
       "      <td>Arket</td>\n",
       "      <td>Cotton Voile Dress Black/white</td>\n",
       "      <td>400</td>\n",
       "      <td>395</td>\n",
       "      <td>Dress</td>\n",
       "    </tr>\n",
       "    <tr>\n",
       "      <th>4</th>\n",
       "      <td>0.52</td>\n",
       "      <td>M L</td>\n",
       "      <td>COS</td>\n",
       "      <td>Ruched Calf Length Dress With Slim Fit</td>\n",
       "      <td>990</td>\n",
       "      <td>475</td>\n",
       "      <td>Dress</td>\n",
       "    </tr>\n",
       "    <tr>\n",
       "      <th>5</th>\n",
       "      <td>0.59</td>\n",
       "      <td>XS S M L</td>\n",
       "      <td>COS</td>\n",
       "      <td>Wool T-shirt Dress With Oversized Fit Navy Blue</td>\n",
       "      <td>1100</td>\n",
       "      <td>447</td>\n",
       "      <td>Dress</td>\n",
       "    </tr>\n",
       "    <tr>\n",
       "      <th>6</th>\n",
       "      <td>0.45</td>\n",
       "      <td>M L</td>\n",
       "      <td>COS</td>\n",
       "      <td>Asymmetric Ruched Midi Dress Black</td>\n",
       "      <td>1000</td>\n",
       "      <td>550</td>\n",
       "      <td>Dress</td>\n",
       "    </tr>\n",
       "  </tbody>\n",
       "</table>\n",
       "</div>"
      ],
      "text/plain": [
       "  SalePercent                       Sizes  Brand  \\\n",
       "0        0.65                    XS S M L    COS   \n",
       "1        0.59                        XS S  Arket   \n",
       "2         0.6                    XXS XS S    H&M   \n",
       "3         0.5  Available in several sizes  Arket   \n",
       "4        0.52                         M L    COS   \n",
       "5        0.59                    XS S M L    COS   \n",
       "6        0.45                         M L    COS   \n",
       "\n",
       "                                             Title OldPrice NewPrice Category  \n",
       "0           Oversized-fit Wool T-shirt Dress Black     1100      386    Dress  \n",
       "1              Short Sleeve Sweatshirt Dress Black      295      240    Dress  \n",
       "2                       Ribbed Bodycon Dress Black      149       60    Dress  \n",
       "3                   Cotton Voile Dress Black/white      400      395    Dress  \n",
       "4           Ruched Calf Length Dress With Slim Fit      990      475    Dress  \n",
       "5  Wool T-shirt Dress With Oversized Fit Navy Blue     1100      447    Dress  \n",
       "6               Asymmetric Ruched Midi Dress Black     1000      550    Dress  "
      ]
     },
     "execution_count": 157,
     "metadata": {},
     "output_type": "execute_result"
    }
   ],
   "source": [
    "df.head(7)"
   ]
  },
  {
   "cell_type": "code",
   "execution_count": 158,
   "metadata": {},
   "outputs": [],
   "source": [
    "df['SalePercent'] = df['SalePercent'].astype(float)\n",
    "df['OldPrice'] = df['OldPrice'].astype(int)\n",
    "df['NewPrice'] = df['NewPrice'].astype(int)"
   ]
  },
  {
   "cell_type": "code",
   "execution_count": 159,
   "metadata": {},
   "outputs": [],
   "source": [
    "df['SalePercent'] = df['SalePercent'].round(2)"
   ]
  },
  {
   "cell_type": "code",
   "execution_count": 160,
   "metadata": {},
   "outputs": [
    {
     "name": "stdout",
     "output_type": "stream",
     "text": [
      "<class 'pandas.core.frame.DataFrame'>\n",
      "RangeIndex: 1871 entries, 0 to 1870\n",
      "Data columns (total 7 columns):\n",
      " #   Column       Non-Null Count  Dtype  \n",
      "---  ------       --------------  -----  \n",
      " 0   SalePercent  1871 non-null   float64\n",
      " 1   Sizes        1871 non-null   object \n",
      " 2   Brand        1871 non-null   object \n",
      " 3   Title        1871 non-null   object \n",
      " 4   OldPrice     1871 non-null   int32  \n",
      " 5   NewPrice     1871 non-null   int32  \n",
      " 6   Category     1871 non-null   object \n",
      "dtypes: float64(1), int32(2), object(4)\n",
      "memory usage: 87.8+ KB\n"
     ]
    }
   ],
   "source": [
    "df.info()"
   ]
  },
  {
   "cell_type": "code",
   "execution_count": 167,
   "metadata": {},
   "outputs": [],
   "source": [
    "df['RowId'] = range(1,len(df)+1)"
   ]
  },
  {
   "cell_type": "code",
   "execution_count": 164,
   "metadata": {},
   "outputs": [
    {
     "data": {
      "text/html": [
       "<div>\n",
       "<style scoped>\n",
       "    .dataframe tbody tr th:only-of-type {\n",
       "        vertical-align: middle;\n",
       "    }\n",
       "\n",
       "    .dataframe tbody tr th {\n",
       "        vertical-align: top;\n",
       "    }\n",
       "\n",
       "    .dataframe thead th {\n",
       "        text-align: right;\n",
       "    }\n",
       "</style>\n",
       "<table border=\"1\" class=\"dataframe\">\n",
       "  <thead>\n",
       "    <tr style=\"text-align: right;\">\n",
       "      <th></th>\n",
       "      <th>SalePercent</th>\n",
       "      <th>Sizes</th>\n",
       "      <th>Brand</th>\n",
       "      <th>Title</th>\n",
       "      <th>OldPrice</th>\n",
       "      <th>NewPrice</th>\n",
       "      <th>Category</th>\n",
       "      <th>RowId</th>\n",
       "    </tr>\n",
       "  </thead>\n",
       "  <tbody>\n",
       "    <tr>\n",
       "      <th>0</th>\n",
       "      <td>0.65</td>\n",
       "      <td>XS S M L</td>\n",
       "      <td>COS</td>\n",
       "      <td>Oversized-fit Wool T-shirt Dress Black</td>\n",
       "      <td>1100</td>\n",
       "      <td>386</td>\n",
       "      <td>Dress</td>\n",
       "      <td>1</td>\n",
       "    </tr>\n",
       "    <tr>\n",
       "      <th>1</th>\n",
       "      <td>0.59</td>\n",
       "      <td>XS S</td>\n",
       "      <td>Arket</td>\n",
       "      <td>Short Sleeve Sweatshirt Dress Black</td>\n",
       "      <td>295</td>\n",
       "      <td>240</td>\n",
       "      <td>Dress</td>\n",
       "      <td>2</td>\n",
       "    </tr>\n",
       "    <tr>\n",
       "      <th>2</th>\n",
       "      <td>0.60</td>\n",
       "      <td>XXS XS S</td>\n",
       "      <td>H&amp;M</td>\n",
       "      <td>Ribbed Bodycon Dress Black</td>\n",
       "      <td>149</td>\n",
       "      <td>60</td>\n",
       "      <td>Dress</td>\n",
       "      <td>3</td>\n",
       "    </tr>\n",
       "    <tr>\n",
       "      <th>3</th>\n",
       "      <td>0.50</td>\n",
       "      <td>Available in several sizes</td>\n",
       "      <td>Arket</td>\n",
       "      <td>Cotton Voile Dress Black/white</td>\n",
       "      <td>400</td>\n",
       "      <td>395</td>\n",
       "      <td>Dress</td>\n",
       "      <td>4</td>\n",
       "    </tr>\n",
       "    <tr>\n",
       "      <th>4</th>\n",
       "      <td>0.52</td>\n",
       "      <td>M L</td>\n",
       "      <td>COS</td>\n",
       "      <td>Ruched Calf Length Dress With Slim Fit</td>\n",
       "      <td>990</td>\n",
       "      <td>475</td>\n",
       "      <td>Dress</td>\n",
       "      <td>5</td>\n",
       "    </tr>\n",
       "  </tbody>\n",
       "</table>\n",
       "</div>"
      ],
      "text/plain": [
       "   SalePercent                       Sizes  Brand  \\\n",
       "0         0.65                    XS S M L    COS   \n",
       "1         0.59                        XS S  Arket   \n",
       "2         0.60                    XXS XS S    H&M   \n",
       "3         0.50  Available in several sizes  Arket   \n",
       "4         0.52                         M L    COS   \n",
       "\n",
       "                                    Title  OldPrice  NewPrice Category  RowId  \n",
       "0  Oversized-fit Wool T-shirt Dress Black      1100       386    Dress      1  \n",
       "1     Short Sleeve Sweatshirt Dress Black       295       240    Dress      2  \n",
       "2              Ribbed Bodycon Dress Black       149        60    Dress      3  \n",
       "3          Cotton Voile Dress Black/white       400       395    Dress      4  \n",
       "4  Ruched Calf Length Dress With Slim Fit       990       475    Dress      5  "
      ]
     },
     "execution_count": 164,
     "metadata": {},
     "output_type": "execute_result"
    }
   ],
   "source": [
    "df.head()"
   ]
  },
  {
   "cell_type": "code",
   "execution_count": 166,
   "metadata": {},
   "outputs": [],
   "source": [
    "df.to_csv('aFoundData.csv', index=False)\n",
    "df.to_csv('aFoundData.txt', index=False)\n"
   ]
  },
  {
   "cell_type": "code",
   "execution_count": 168,
   "metadata": {},
   "outputs": [
    {
     "data": {
      "text/html": [
       "<div>\n",
       "<style scoped>\n",
       "    .dataframe tbody tr th:only-of-type {\n",
       "        vertical-align: middle;\n",
       "    }\n",
       "\n",
       "    .dataframe tbody tr th {\n",
       "        vertical-align: top;\n",
       "    }\n",
       "\n",
       "    .dataframe thead th {\n",
       "        text-align: right;\n",
       "    }\n",
       "</style>\n",
       "<table border=\"1\" class=\"dataframe\">\n",
       "  <thead>\n",
       "    <tr style=\"text-align: right;\">\n",
       "      <th></th>\n",
       "      <th>SalePercent</th>\n",
       "      <th>Sizes</th>\n",
       "      <th>Brand</th>\n",
       "      <th>Title</th>\n",
       "      <th>OldPrice</th>\n",
       "      <th>NewPrice</th>\n",
       "      <th>Category</th>\n",
       "      <th>RowId</th>\n",
       "    </tr>\n",
       "  </thead>\n",
       "  <tbody>\n",
       "    <tr>\n",
       "      <th>0</th>\n",
       "      <td>0.65</td>\n",
       "      <td>XS S M L</td>\n",
       "      <td>COS</td>\n",
       "      <td>Oversized-fit Wool T-shirt Dress Black</td>\n",
       "      <td>1100</td>\n",
       "      <td>386</td>\n",
       "      <td>Dress</td>\n",
       "      <td>1</td>\n",
       "    </tr>\n",
       "    <tr>\n",
       "      <th>1</th>\n",
       "      <td>0.59</td>\n",
       "      <td>XS S</td>\n",
       "      <td>Arket</td>\n",
       "      <td>Short Sleeve Sweatshirt Dress Black</td>\n",
       "      <td>295</td>\n",
       "      <td>240</td>\n",
       "      <td>Dress</td>\n",
       "      <td>2</td>\n",
       "    </tr>\n",
       "    <tr>\n",
       "      <th>2</th>\n",
       "      <td>0.60</td>\n",
       "      <td>XXS XS S</td>\n",
       "      <td>H&amp;M</td>\n",
       "      <td>Ribbed Bodycon Dress Black</td>\n",
       "      <td>149</td>\n",
       "      <td>60</td>\n",
       "      <td>Dress</td>\n",
       "      <td>3</td>\n",
       "    </tr>\n",
       "    <tr>\n",
       "      <th>3</th>\n",
       "      <td>0.50</td>\n",
       "      <td>Available in several sizes</td>\n",
       "      <td>Arket</td>\n",
       "      <td>Cotton Voile Dress Black/white</td>\n",
       "      <td>400</td>\n",
       "      <td>395</td>\n",
       "      <td>Dress</td>\n",
       "      <td>4</td>\n",
       "    </tr>\n",
       "    <tr>\n",
       "      <th>4</th>\n",
       "      <td>0.52</td>\n",
       "      <td>M L</td>\n",
       "      <td>COS</td>\n",
       "      <td>Ruched Calf Length Dress With Slim Fit</td>\n",
       "      <td>990</td>\n",
       "      <td>475</td>\n",
       "      <td>Dress</td>\n",
       "      <td>5</td>\n",
       "    </tr>\n",
       "  </tbody>\n",
       "</table>\n",
       "</div>"
      ],
      "text/plain": [
       "   SalePercent                       Sizes  Brand  \\\n",
       "0         0.65                    XS S M L    COS   \n",
       "1         0.59                        XS S  Arket   \n",
       "2         0.60                    XXS XS S    H&M   \n",
       "3         0.50  Available in several sizes  Arket   \n",
       "4         0.52                         M L    COS   \n",
       "\n",
       "                                    Title  OldPrice  NewPrice Category  RowId  \n",
       "0  Oversized-fit Wool T-shirt Dress Black      1100       386    Dress      1  \n",
       "1     Short Sleeve Sweatshirt Dress Black       295       240    Dress      2  \n",
       "2              Ribbed Bodycon Dress Black       149        60    Dress      3  \n",
       "3          Cotton Voile Dress Black/white       400       395    Dress      4  \n",
       "4  Ruched Calf Length Dress With Slim Fit       990       475    Dress      5  "
      ]
     },
     "execution_count": 168,
     "metadata": {},
     "output_type": "execute_result"
    }
   ],
   "source": [
    "ddf = pd.read_csv('aFoundData.csv')\n",
    "ddf.head(5)"
   ]
  },
  {
   "cell_type": "code",
   "execution_count": 169,
   "metadata": {},
   "outputs": [
    {
     "name": "stdout",
     "output_type": "stream",
     "text": [
      "<class 'pandas.core.frame.DataFrame'>\n",
      "RangeIndex: 1871 entries, 0 to 1870\n",
      "Data columns (total 8 columns):\n",
      " #   Column       Non-Null Count  Dtype  \n",
      "---  ------       --------------  -----  \n",
      " 0   SalePercent  1871 non-null   float64\n",
      " 1   Sizes        1871 non-null   object \n",
      " 2   Brand        1871 non-null   object \n",
      " 3   Title        1871 non-null   object \n",
      " 4   OldPrice     1871 non-null   int64  \n",
      " 5   NewPrice     1871 non-null   int64  \n",
      " 6   Category     1871 non-null   object \n",
      " 7   RowId        1871 non-null   int64  \n",
      "dtypes: float64(1), int64(3), object(4)\n",
      "memory usage: 117.1+ KB\n"
     ]
    }
   ],
   "source": [
    "ddf.info()"
   ]
  },
  {
   "cell_type": "code",
   "execution_count": 31,
   "metadata": {},
   "outputs": [
    {
     "data": {
      "text/plain": [
       "SalePercent    0\n",
       "Sizes          0\n",
       "Brand          0\n",
       "Title          0\n",
       "OldPrice       0\n",
       "NewPrice       0\n",
       "dtype: int64"
      ]
     },
     "execution_count": 31,
     "metadata": {},
     "output_type": "execute_result"
    }
   ],
   "source": [
    "ddf.isnull().sum()"
   ]
  },
  {
   "cell_type": "code",
   "execution_count": 32,
   "metadata": {},
   "outputs": [
    {
     "data": {
      "text/plain": [
       "Brand\n",
       "& Other Stories    150\n",
       "Arket              186\n",
       "COS                278\n",
       "H&M                802\n",
       "Monki              218\n",
       "Regatta              9\n",
       "Trespass             4\n",
       "Weekday             31\n",
       "dtype: int32"
      ]
     },
     "execution_count": 32,
     "metadata": {},
     "output_type": "execute_result"
    }
   ],
   "source": [
    "popularBrands = pd.crosstab(df['Brand'],df.index).sum(axis=1).astype(int)\n",
    "popularBrands"
   ]
  },
  {
   "cell_type": "code",
   "execution_count": 9,
   "metadata": {},
   "outputs": [
    {
     "data": {
      "text/plain": [
       "<Axes: title={'center': 'Brands Popularity Chart'}, xlabel='Brand'>"
      ]
     },
     "execution_count": 9,
     "metadata": {},
     "output_type": "execute_result"
    },
    {
     "data": {
      "image/png": "[encoded data removed]",
      "text/plain": [
       "<Figure size 640x480 with 1 Axes>"
      ]
     },
     "metadata": {},
     "output_type": "display_data"
    }
   ],
   "source": [
    "popularBrands.plot(kind='bar', rot=0, title='Brands Popularity Chart')"
   ]
  },
  {
   "cell_type": "code",
   "execution_count": 12,
   "metadata": {},
   "outputs": [
    {
     "data": {
      "text/html": [
       "<div>\n",
       "<style scoped>\n",
       "    .dataframe tbody tr th:only-of-type {\n",
       "        vertical-align: middle;\n",
       "    }\n",
       "\n",
       "    .dataframe tbody tr th {\n",
       "        vertical-align: top;\n",
       "    }\n",
       "\n",
       "    .dataframe thead th {\n",
       "        text-align: right;\n",
       "    }\n",
       "</style>\n",
       "<table border=\"1\" class=\"dataframe\">\n",
       "  <thead>\n",
       "    <tr style=\"text-align: right;\">\n",
       "      <th></th>\n",
       "      <th>SalePercent</th>\n",
       "      <th>Sizes</th>\n",
       "      <th>Brand</th>\n",
       "      <th>Title</th>\n",
       "      <th>OldPrice</th>\n",
       "      <th>NewPrice</th>\n",
       "      <th>RowId</th>\n",
       "    </tr>\n",
       "  </thead>\n",
       "  <tbody>\n",
       "    <tr>\n",
       "      <th>3</th>\n",
       "      <td>0.55</td>\n",
       "      <td>XS S</td>\n",
       "      <td>H&amp;M</td>\n",
       "      <td>Knitted Bodycon Dress Purple</td>\n",
       "      <td>399</td>\n",
       "      <td>179</td>\n",
       "      <td>4</td>\n",
       "    </tr>\n",
       "    <tr>\n",
       "      <th>4</th>\n",
       "      <td>0.48</td>\n",
       "      <td>XL</td>\n",
       "      <td>H&amp;M</td>\n",
       "      <td>Shirt Dress With Tie Belt White</td>\n",
       "      <td>249</td>\n",
       "      <td>129</td>\n",
       "      <td>5</td>\n",
       "    </tr>\n",
       "    <tr>\n",
       "      <th>6</th>\n",
       "      <td>0.60</td>\n",
       "      <td>XS</td>\n",
       "      <td>H&amp;M</td>\n",
       "      <td>Ribbed Dress Black</td>\n",
       "      <td>199</td>\n",
       "      <td>80</td>\n",
       "      <td>7</td>\n",
       "    </tr>\n",
       "  </tbody>\n",
       "</table>\n",
       "</div>"
      ],
      "text/plain": [
       "   SalePercent Sizes Brand                            Title  OldPrice  \\\n",
       "3         0.55  XS S   H&M     Knitted Bodycon Dress Purple       399   \n",
       "4         0.48    XL   H&M  Shirt Dress With Tie Belt White       249   \n",
       "6         0.60    XS   H&M               Ribbed Dress Black       199   \n",
       "\n",
       "   NewPrice  RowId  \n",
       "3       179      4  \n",
       "4       129      5  \n",
       "6        80      7  "
      ]
     },
     "execution_count": 12,
     "metadata": {},
     "output_type": "execute_result"
    }
   ],
   "source": [
    "hm = df[df['Brand'].str.contains('H&M')]\n",
    "hm.head(3)"
   ]
  },
  {
   "cell_type": "code",
   "execution_count": 14,
   "metadata": {},
   "outputs": [
    {
     "data": {
      "text/plain": [
       "Sizes\n",
       "4XL                            9\n",
       "Available in several sizes    50\n",
       "EU 32                          4\n",
       "EU 34                          1\n",
       "EU 34 EU 36 EU 38              1\n",
       "                              ..\n",
       "XXS XS S M L XL               19\n",
       "XXS XS S M XL                  4\n",
       "XXS XS S XL                    1\n",
       "XXXL                           1\n",
       "XXXL 4XL                       3\n",
       "Length: 103, dtype: int64"
      ]
     },
     "execution_count": 14,
     "metadata": {},
     "output_type": "execute_result"
    }
   ],
   "source": [
    "pd.crosstab(hm['Sizes'],hm.index).sum(axis=1)"
   ]
  },
  {
   "cell_type": "code",
   "execution_count": 21,
   "metadata": {},
   "outputs": [
    {
     "data": {
      "text/plain": [
       "array([0.55, 0.48, 0.6 , 0.7 , 0.5 , 0.35, 0.68, 0.65, 0.47, 0.37, 0.46,\n",
       "       0.4 , 0.57, 0.54, 0.45, 0.77, 0.25, 0.44, 0.75, 0.33, 0.73, 0.43,\n",
       "       0.2 , 0.34, 0.58, 0.62, 0.53, 0.72, 0.52, 0.64, 0.49, 0.38, 0.76,\n",
       "       0.36, 0.63, 0.61, 0.66, 0.74, 0.3 , 0.23, 0.71, 0.39, 0.28, 0.29,\n",
       "       0.67, 0.69, 0.31, 0.27, 0.24, 0.42])"
      ]
     },
     "execution_count": 21,
     "metadata": {},
     "output_type": "execute_result"
    }
   ],
   "source": [
    "hm['SalePercent'].unique()"
   ]
  },
  {
   "cell_type": "code",
   "execution_count": null,
   "metadata": {},
   "outputs": [],
   "source": [
    "for sp in range(len(hm['SalePercent'])):\n",
    "  if hm['SalePercent'][sp] <= 0.30:\n",
    "    hm['SalePercentCategroy'][sp] = 'Less then 30%'\n",
    "  elif hm['SalePercent'][sp] > 0.30 and hm['SalePercent'][sp] <= 0.40:\n",
    "    hm['SalePercentCategroy'][sp] = 'Between 30% to 40%'\n",
    "  elif hm['SalePercent)'][sp] > 0.40 and hm['SalePercent'][sp] <= 0.60:\n",
    "    hm['SalePercentCategory'][sp] = 'Between 40% to 60%'\n",
    "  elif hm['SalePercent'][sp] > 0.60:\n",
    "    hm['SalePercentCategory'][sp] = 'Above 60%'"
   ]
  }
 ],
 "metadata": {
  "kernelspec": {
   "display_name": "Python 3",
   "language": "python",
   "name": "python3"
  },
  "language_info": {
   "codemirror_mode": {
    "name": "ipython",
    "version": 3
   },
   "file_extension": ".py",
   "mimetype": "text/x-python",
   "name": "python",
   "nbconvert_exporter": "python",
   "pygments_lexer": "ipython3",
   "version": "3.11.4"
  },
  "orig_nbformat": 4
 },
 "nbformat": 4,
 "nbformat_minor": 2
}
